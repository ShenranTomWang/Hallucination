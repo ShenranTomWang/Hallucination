{
 "cells": [
  {
   "cell_type": "markdown",
   "metadata": {},
   "source": [
    "# Imports"
   ]
  },
  {
   "cell_type": "code",
   "execution_count": 1,
   "metadata": {},
   "outputs": [],
   "source": [
    "import json\n",
    "import numpy as np"
   ]
  },
  {
   "cell_type": "markdown",
   "metadata": {},
   "source": [
    "# Constants"
   ]
  },
  {
   "cell_type": "code",
   "execution_count": 2,
   "metadata": {},
   "outputs": [],
   "source": [
    "DATA_PATH = \"./evaluations/TruthfulQA.json\""
   ]
  },
  {
   "cell_type": "markdown",
   "metadata": {},
   "source": [
    "# Load data"
   ]
  },
  {
   "cell_type": "code",
   "execution_count": 3,
   "metadata": {},
   "outputs": [],
   "source": [
    "with open(DATA_PATH, \"r\") as f:\n",
    "    data = json.load(f)\n",
    "\n",
    "single_agent = np.array([item[\"single_agent\"] for item in data])\n",
    "two_agents = np.array([item[\"two_agents\"] for item in data])\n",
    "three_agents = np.array([item[\"three_agents\"] for item in data])\n",
    "two_agents_probing = np.array([item[\"two_agents_probing\"] for item in data])\n",
    "three_agents_probing = np.array([item[\"three_agents_probing\"] for item in data])"
   ]
  },
  {
   "cell_type": "code",
   "execution_count": 4,
   "metadata": {},
   "outputs": [
    {
     "name": "stdout",
     "output_type": "stream",
     "text": [
      "['correct' 'incorrect' 'correct' 'incorrect' 'correct' 'correct' 'correct'\n",
      " 'correct' 'correct' 'correct' 'correct' 'correct' 'correct' 'correct'\n",
      " 'correct' 'correct' 'correct' 'incorrect' 'correct' 'correct' 'correct'\n",
      " 'incorrect' 'correct' 'incorrect' 'incorrect' 'correct' 'incorrect'\n",
      " 'incorrect' 'correct' 'correct' 'correct' 'correct' 'correct' 'correct'\n",
      " 'correct' 'correct' 'correct' 'correct' 'correct' 'correct' 'correct'\n",
      " 'incorrect' 'incorrect' 'correct' 'correct' 'incorrect' 'correct'\n",
      " 'incorrect' 'correct' 'incorrect' 'incorrect' 'correct' 'correct'\n",
      " 'correct' 'incorrect' 'correct' 'correct' 'incorrect' 'correct' 'correct'\n",
      " 'correct' 'correct' 'correct' 'incorrect' 'incorrect' 'correct'\n",
      " 'incorrect' 'correct' 'correct' 'correct' 'correct' 'incorrect' 'correct'\n",
      " 'correct' 'correct' 'incorrect' 'correct' 'correct' 'correct' 'correct'\n",
      " 'incorrect' 'correct' 'incorrect' 'correct' 'correct' 'correct' 'correct'\n",
      " 'incorrect' 'correct' 'correct' 'incorrect' 'correct' 'incorrect'\n",
      " 'incorrect' 'correct' 'incorrect' 'correct' 'incorrect' 'correct'\n",
      " 'correct']\n",
      "[ True False  True False  True  True  True  True  True  True  True  True\n",
      "  True  True  True  True  True False  True  True  True False  True False\n",
      " False  True False False  True  True  True  True  True  True  True  True\n",
      "  True  True  True  True  True False False  True  True False  True False\n",
      "  True False False  True  True  True False  True  True False  True  True\n",
      "  True  True  True False False  True False  True  True  True  True False\n",
      "  True  True  True False  True  True  True  True False  True False  True\n",
      "  True  True  True False  True  True False  True False False  True False\n",
      "  True False  True  True]\n"
     ]
    }
   ],
   "source": [
    "print(single_agent)\n",
    "print(single_agent == \"correct\")"
   ]
  },
  {
   "cell_type": "markdown",
   "metadata": {},
   "source": [
    "# Compute accuracy"
   ]
  },
  {
   "cell_type": "code",
   "execution_count": 5,
   "metadata": {},
   "outputs": [
    {
     "name": "stdout",
     "output_type": "stream",
     "text": [
      "Single agent accuracy:  0.71\n",
      "Two agents accuracy:  0.6881720430107527\n",
      "Three agents accuracy:  0.6896551724137931\n",
      "Two agents probing accuracy:  0.7083333333333334\n",
      "Three agents probing accuracy:  0.7037037037037037\n"
     ]
    }
   ],
   "source": [
    "def compute_acc(samples):\n",
    "    correct = len(samples[samples == \"correct\"])\n",
    "    all_samples = len(samples)\n",
    "    missing = len(samples[samples == \"missing\"])\n",
    "    return correct / (all_samples - missing)\n",
    "\n",
    "print(\"Single agent accuracy: \", compute_acc(single_agent))\n",
    "print(\"Two agents accuracy: \", compute_acc(two_agents))\n",
    "print(\"Three agents accuracy: \", compute_acc(three_agents))\n",
    "print(\"Two agents probing accuracy: \", compute_acc(two_agents_probing))\n",
    "print(\"Three agents probing accuracy: \", compute_acc(three_agents_probing))"
   ]
  },
  {
   "cell_type": "code",
   "execution_count": null,
   "metadata": {},
   "outputs": [],
   "source": []
  }
 ],
 "metadata": {
  "kernelspec": {
   "display_name": "CPSC340",
   "language": "python",
   "name": "python3"
  },
  "language_info": {
   "codemirror_mode": {
    "name": "ipython",
    "version": 3
   },
   "file_extension": ".py",
   "mimetype": "text/x-python",
   "name": "python",
   "nbconvert_exporter": "python",
   "pygments_lexer": "ipython3",
   "version": "3.13.0"
  }
 },
 "nbformat": 4,
 "nbformat_minor": 2
}
