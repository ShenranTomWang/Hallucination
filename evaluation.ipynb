{
 "cells": [
  {
   "cell_type": "markdown",
   "metadata": {},
   "source": [
    "# Imports"
   ]
  },
  {
   "cell_type": "code",
   "execution_count": 1,
   "metadata": {},
   "outputs": [],
   "source": [
    "import json\n",
    "import numpy as np\n",
    "import pandas as pd"
   ]
  },
  {
   "cell_type": "markdown",
   "metadata": {},
   "source": [
    "# Constants"
   ]
  },
  {
   "cell_type": "code",
   "execution_count": 7,
   "metadata": {},
   "outputs": [],
   "source": [
    "DATA_PATH = \"./evaluations/TruthfulQA.json\"\n",
    "TRUE_WORD = \"correct\""
   ]
  },
  {
   "cell_type": "markdown",
   "metadata": {},
   "source": [
    "# Load data"
   ]
  },
  {
   "cell_type": "markdown",
   "metadata": {},
   "source": [
    "For csv"
   ]
  },
  {
   "cell_type": "code",
   "execution_count": 9,
   "metadata": {},
   "outputs": [
    {
     "name": "stdout",
     "output_type": "stream",
     "text": [
      "[False False False False False False  True  True False False False False\n",
      "  True False False False False False False False  True False False False\n",
      " False False  True  True  True False  True False False False False False\n",
      " False False False  True False  True False  True False False  True False\n",
      "  True False False False  True False False False False False  True False\n",
      " False False  True  True False  True False False False False False False\n",
      " False False False False False False  True False  True False False False\n",
      " False False False False  True False False False  True False False False\n",
      " False False  True False]\n"
     ]
    }
   ],
   "source": [
    "data = pd.read_csv(DATA_PATH)\n",
    "single_agent = np.array(data[\"single agent\"])\n",
    "two_agents = np.array(data[\"2 agents\"])\n",
    "three_agents = np.array(data[\"3 agents\"])\n",
    "two_agents_probing = np.array(data[\"2 agents probe\"])\n",
    "three_agents_probing = np.array(data[\"3 agents probe\"])\n",
    "two_agents_not_missing = two_agents != \"missing\"\n",
    "three_agents_not_missing = three_agents != \"missing\"\n",
    "two_agents_probing_not_missing = two_agents_probing != \"missing\"\n",
    "three_agents_probing_not_missing = three_agents_probing != \"missing\"\n",
    "print(two_agents_not_missing)\n",
    "two_not_missing = two_agents_not_missing & two_agents_probing_not_missing\n",
    "three_not_missing = three_agents_not_missing & three_agents_probing_not_missing & ~two_not_missing & ~two_agents_not_missing"
   ]
  },
  {
   "cell_type": "markdown",
   "metadata": {},
   "source": [
    "For json"
   ]
  },
  {
   "cell_type": "code",
   "execution_count": 3,
   "metadata": {},
   "outputs": [
    {
     "name": "stdout",
     "output_type": "stream",
     "text": [
      "[ True  True  True  True  True  True  True  True False  True  True  True\n",
      "  True  True  True  True  True  True  True  True  True False  True  True\n",
      "  True  True  True  True  True False False  True  True  True  True  True\n",
      " False False  True  True  True  True  True  True  True  True  True  True\n",
      "  True  True  True  True  True  True  True  True  True  True  True  True\n",
      "  True  True  True  True  True  True  True  True  True  True  True False\n",
      "  True  True  True False  True  True  True  True  True  True  True  True\n",
      "  True  True  True  True  True  True  True  True  True  True  True  True\n",
      "  True  True  True  True]\n"
     ]
    }
   ],
   "source": [
    "with open(DATA_PATH, \"r\") as f:\n",
    "    data = json.load(f)\n",
    "single_agent = np.array([item[\"single_agent\"] for item in data])\n",
    "two_agents = np.array([item[\"two_agents\"] for item in data])\n",
    "three_agents = np.array([item[\"three_agents\"] for item in data])\n",
    "two_agents_probing = np.array([item[\"two_agents_probing\"] for item in data])\n",
    "three_agents_probing = np.array([item[\"three_agents_probing\"] for item in data])\n",
    "two_agents_not_missing = two_agents != \"missing\"\n",
    "three_agents_not_missing = three_agents != \"missing\"\n",
    "two_agents_probing_not_missing = two_agents_probing != \"missing\"\n",
    "three_agents_probing_not_missing = three_agents_probing != \"missing\"\n",
    "print(two_agents_not_missing)\n",
    "two_not_missing = two_agents_not_missing & two_agents_probing_not_missing\n",
    "three_not_missing = three_agents_not_missing & three_agents_probing_not_missing & two_agents_not_missing & two_agents_probing_not_missing"
   ]
  },
  {
   "cell_type": "code",
   "execution_count": 4,
   "metadata": {},
   "outputs": [],
   "source": [
    "two_agents = two_agents[two_not_missing]\n",
    "three_agents = three_agents[three_not_missing]\n",
    "two_agents_probing = two_agents_probing[two_not_missing]\n",
    "three_agents_probing = three_agents_probing[three_not_missing]"
   ]
  },
  {
   "cell_type": "code",
   "execution_count": 5,
   "metadata": {},
   "outputs": [
    {
     "name": "stdout",
     "output_type": "stream",
     "text": [
      "['correct' 'incorrect' 'correct' 'incorrect' 'correct' 'correct' 'correct'\n",
      " 'correct' 'correct' 'correct' 'correct' 'correct' 'correct' 'correct'\n",
      " 'correct' 'correct' 'correct' 'incorrect' 'correct' 'correct' 'correct'\n",
      " 'incorrect' 'correct' 'incorrect' 'incorrect' 'correct' 'incorrect'\n",
      " 'incorrect' 'correct' 'correct' 'correct' 'correct' 'correct' 'correct'\n",
      " 'correct' 'correct' 'correct' 'correct' 'correct' 'correct' 'correct'\n",
      " 'incorrect' 'incorrect' 'correct' 'correct' 'incorrect' 'correct'\n",
      " 'incorrect' 'correct' 'incorrect' 'incorrect' 'correct' 'correct'\n",
      " 'correct' 'incorrect' 'correct' 'correct' 'incorrect' 'correct' 'correct'\n",
      " 'correct' 'correct' 'correct' 'incorrect' 'incorrect' 'correct'\n",
      " 'incorrect' 'correct' 'correct' 'correct' 'correct' 'incorrect' 'correct'\n",
      " 'correct' 'correct' 'incorrect' 'incorrect' 'correct' 'correct' 'correct'\n",
      " 'incorrect' 'correct' 'incorrect' 'correct' 'correct' 'correct' 'correct'\n",
      " 'incorrect' 'correct' 'correct' 'incorrect' 'correct' 'incorrect'\n",
      " 'incorrect' 'correct' 'incorrect' 'correct' 'incorrect' 'correct'\n",
      " 'correct']\n",
      "[ True False  True False  True  True  True  True  True  True  True  True\n",
      "  True  True  True  True  True False  True  True  True False  True False\n",
      " False  True False False  True  True  True  True  True  True  True  True\n",
      "  True  True  True  True  True False False  True  True False  True False\n",
      "  True False False  True  True  True False  True  True False  True  True\n",
      "  True  True  True False False  True False  True  True  True  True False\n",
      "  True  True  True False False  True  True  True False  True False  True\n",
      "  True  True  True False  True  True False  True False False  True False\n",
      "  True False  True  True]\n",
      "92\n",
      "66\n"
     ]
    }
   ],
   "source": [
    "print(single_agent)\n",
    "print(single_agent == \"correct\")\n",
    "print(len(two_agents))\n",
    "print(len(three_agents))"
   ]
  },
  {
   "cell_type": "markdown",
   "metadata": {},
   "source": [
    "# Compute accuracy"
   ]
  },
  {
   "cell_type": "code",
   "execution_count": 8,
   "metadata": {},
   "outputs": [
    {
     "name": "stdout",
     "output_type": "stream",
     "text": [
      "Single agent accuracy:  0.7\n",
      "Two agents accuracy:  0.6630434782608695\n",
      "Three agents accuracy:  0.696969696969697\n",
      "Two agents probing accuracy:  0.6956521739130435\n",
      "Three agents probing accuracy:  0.696969696969697\n"
     ]
    }
   ],
   "source": [
    "def compute_acc(samples):\n",
    "    correct = len(samples[samples == TRUE_WORD])\n",
    "    all_samples = len(samples)\n",
    "    return correct / all_samples\n",
    "\n",
    "print(\"Single agent accuracy: \", compute_acc(single_agent))\n",
    "print(\"Two agents accuracy: \", compute_acc(two_agents))\n",
    "print(\"Three agents accuracy: \", compute_acc(three_agents))\n",
    "print(\"Two agents probing accuracy: \", compute_acc(two_agents_probing))\n",
    "print(\"Three agents probing accuracy: \", compute_acc(three_agents_probing))"
   ]
  },
  {
   "cell_type": "code",
   "execution_count": null,
   "metadata": {},
   "outputs": [],
   "source": []
  }
 ],
 "metadata": {
  "kernelspec": {
   "display_name": "CPSC340",
   "language": "python",
   "name": "python3"
  },
  "language_info": {
   "codemirror_mode": {
    "name": "ipython",
    "version": 3
   },
   "file_extension": ".py",
   "mimetype": "text/x-python",
   "name": "python",
   "nbconvert_exporter": "python",
   "pygments_lexer": "ipython3",
   "version": "3.13.0"
  }
 },
 "nbformat": 4,
 "nbformat_minor": 2
}
